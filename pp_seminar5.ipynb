{
 "cells": [
  {
   "cell_type": "markdown",
   "id": "f297fa3e",
   "metadata": {},
   "source": [
    "# Программирование на языке Python\n",
    "## Семинар 5. Функции: введение\n",
    "#### Задача 1\n",
    "В Excel существует функция [СЦЕПИТЬ](https://support.microsoft.com/ru-ru/office/%D1%84%D1%83%D0%BD%D0%BA%D1%86%D0%B8%D1%8F-%D1%81%D1%86%D0%B5%D0%BF%D0%B8%D1%82%D1%8C-8f8ae884-2ca8-4f7a-b093-75d702bea31d). Она позволяет объединять две или более текстовые строки в одну.\n",
    "\n",
    "Напишите код, который будет принимать на вход текстовые колонки (разделенные символом `'\\n'`) до тех пор, пока не будет введена пустая строка. Затем эти колонки должны быть \"склеены\" в одну через пробел и выведены для пользователя.\n",
    "\n",
    "```\n",
    "input:\n",
    "строка1\\nстрока2\\nстрока3\n",
    "row1\\nrow2\\nrow3\n",
    "\n",
    "\n",
    "output:\n",
    "строка1 row1\n",
    "строка2 row3\n",
    "строка3 row3\n",
    "```"
   ]
  },
  {
   "cell_type": "code",
   "execution_count": null,
   "id": "dc3047d0",
   "metadata": {},
   "outputs": [],
   "source": [
    "# наш код здесь"
   ]
  },
  {
   "cell_type": "markdown",
   "id": "98a7715a",
   "metadata": {},
   "source": [
    "#### Задача 2\n",
    "\n",
    "Напишите функцию, которая будет считать скорость свободно падающего тела (в момент столкновения с поверхностью) с учетом высоты падения `h` (в метрах). Формула известна: $\\sqrt{2gh}$, где `g` - ускорение свободного падения, константное для каждой планеты, а `h` - высота. Пусть `g` по умолчанию принимает значение `9.8`.\n",
    "\n",
    "Также функция должна иметь возможность возвращать ответ как в `'м/с'`, так и в `'км/ч'` (по запросу пользователя). В случае, если пользователь вводит какие-то другие единицы измерения, должно быть вызвано исключение `ValueError`."
   ]
  },
  {
   "cell_type": "code",
   "execution_count": null,
   "id": "7f38b093",
   "metadata": {},
   "outputs": [],
   "source": [
    "# наш код здесь"
   ]
  },
  {
   "cell_type": "markdown",
   "id": "d68d4aff",
   "metadata": {},
   "source": [
    "#### Задача 3\n",
    "\n",
    "Переделайте Задачу 1, создав функцию, которая принимает на вход неограниченное количество строк и далее делает то же самое. Возвращаться должен один список строк (т. е. одна колонка)."
   ]
  },
  {
   "cell_type": "code",
   "execution_count": null,
   "id": "85b0346f",
   "metadata": {},
   "outputs": [],
   "source": [
    "# наш код здесь"
   ]
  },
  {
   "cell_type": "markdown",
   "id": "ac4085f7",
   "metadata": {},
   "source": [
    "#### Задача 4\n",
    "\n",
    "Известно, что исследование подготовка данных для машинного обучения занимает куда больше времени, чем собственно машинное обучение. В частности, существует такая процедура, как создание т. н. dummy-переменных.\n",
    "\n",
    "![dummy](https://www.statology.org/wp-content/uploads/2021/02/dummyvartrap1-768x344.png)\n",
    "\n",
    "В `pandas` уже есть функция, которая принимает на вход текстовую колонку таблицы и возвращает вместо нее много колонок с dummy-переменными. Однако проблема в том, что в ваших данных есть переменные, значения которых представляют из себя словосочетания со знаками препинания (количество таких слов формально не ограничено). Некоторые алгоритмы \"любят\" только простые названия переменных вида `variable` или `simple_variable`. Кроме того, все равно для последующей работы неплохо было бы стандартизировать все названия.\n",
    "\n",
    "Поэтому вам нужно сделать функцию, которая производила бы следующую предобработку всех значений в колонке:\n",
    "\n",
    "- удаление всех знаков препинания;\n",
    "- приведение всех букв к нижнему регистру;\n",
    "- замену всех пробелов на нижнее подчеркивание;\n",
    "- ограничение длины каждого слова первыми четырьмя буквами.\n",
    "\n",
    "Функция должна возвращать словарь (mapper), по которому можно преобразовать переменную в новый вид (с помощью методов `.map()` / `.apply` - о них вам расскажут позднее). Ключами должны быть старые значения, а собственно значениями - новые. Гарантируется, что словосочетания на английском языке.\n",
    "\n",
    "**Пример**\n",
    "\n",
    "```\n",
    "function input:\n",
    "['Agree', 'Agree', 'Neither agree nor disagree', \"Don't know\", 'Neither agree nor disagree', 'Neither agree nor disagree', 'Disagree', 'No answer', 'Agree strongly', 'No answer', 'Agree', 'Refusal', 'Refusal', 'Disagree strongly', 'Disagree']\n",
    "\n",
    "function return:\n",
    "{\n",
    "    'Agree strongly': 'agre_stro',\n",
    "    'Agree': 'agre',\n",
    "    'Neither agree nor disagree': 'neit_agre_nor_disa',\n",
    "    'Disagree': 'disa',\n",
    "    'Disagree strongly': 'disa_stro',\n",
    "    'Refusal': 'refu',\n",
    "    \"Don't know\": 'dont_know',\n",
    "    'No answer': 'no_answ'\n",
    "}\n",
    "```"
   ]
  },
  {
   "cell_type": "code",
   "execution_count": null,
   "id": "0846d87b",
   "metadata": {},
   "outputs": [],
   "source": [
    "# наш код здесь"
   ]
  },
  {
   "cell_type": "markdown",
   "id": "a4e6d859",
   "metadata": {},
   "source": [
    "#### Задача 5\n",
    "\n",
    "Предположим, что перед вами стоит новая задача - преобразовать переменную в бинарную в PostgreSQL. К сожалению, это не `pandas`, и готовой функции на этот случай не предусмотрено. Однако вы знаете, что можно создавать новые переменные базируясь на значении старых используя конструкцию case...when...then...end.\n",
    "\n",
    "Если категорий немного, то написать такой код несложно. Однако что делать, если их, к примеру, 100? Используйте свои знания Python, чтобы автоматизировать процесс написания SQL-запроса. Напишите соответствующую функцию.\n",
    "\n",
    "**Пример**\n",
    "```\n",
    "function input:\n",
    "['Agree', 'Agree', 'Neither agree nor disagree', \"Don't know\", 'Neither agree nor disagree', 'Neither agree nor disagree', 'Disagree', 'No answer', 'Agree strongly', 'No answer', 'Agree', 'Refusal', 'Refusal', 'Disagree strongly', 'Disagree']\n",
    "\n",
    "function return:\n",
    "    CASE WHEN gincdif = 'Agree strongly' THEN 1 ELSE 0 END AS agre_stro,\n",
    "    CASE WHEN gincdif = 'Agree' THEN 1 ELSE 0 END AS agre,\n",
    "    CASE WHEN gincdif = 'Neither agree nor disagree' THEN 1 ELSE 0 END AS neit_agre_nor_disa,\n",
    "    CASE WHEN gincdif = 'Disagree' THEN 1 ELSE 0 END AS disa,\n",
    "    CASE WHEN gincdif = 'Disagree strongly' THEN 1 ELSE 0 END AS disa_stro,\n",
    "    CASE WHEN gincdif = 'Refusal' THEN 1 ELSE 0 END AS refu,\n",
    "    CASE WHEN ginsdif = \"Don't know\" THEN 1 ELSE 0 END AS dont_know\n",
    "    CASE WHEN ginsdif = \"No answer\" THEN 1 ELSE 0 END AS no_answ\n",
    "```"
   ]
  },
  {
   "cell_type": "code",
   "execution_count": null,
   "id": "e2eb65c9",
   "metadata": {},
   "outputs": [],
   "source": [
    "# наш код здесь"
   ]
  }
 ],
 "metadata": {
  "kernelspec": {
   "display_name": "Python 3 (ipykernel)",
   "language": "python",
   "name": "python3"
  },
  "language_info": {
   "codemirror_mode": {
    "name": "ipython",
    "version": 3
   },
   "file_extension": ".py",
   "mimetype": "text/x-python",
   "name": "python",
   "nbconvert_exporter": "python",
   "pygments_lexer": "ipython3",
   "version": "3.11.1"
  }
 },
 "nbformat": 4,
 "nbformat_minor": 5
}
