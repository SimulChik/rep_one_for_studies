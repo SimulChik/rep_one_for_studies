{
 "cells": [
  {
   "cell_type": "markdown",
   "id": "f297fa3e",
   "metadata": {},
   "source": [
    "# Программирование на языке Python\n",
    "## Семинар 2. Погружение в типы данных\n",
    "#### Задача 1\n",
    "Вам на вход подается последовательность целых чисел произвольной длины через потенциально возможные разделители `'.'`, `','`, `';'` либо `' '` (пробел). Ваша задача - написать программу, которая будет определять, что это за разделитель, и печатать для пользователя:\n",
    "\n",
    "1. В первой строке: `Разделитель в последовательности: <delimiter_name>.`;\n",
    "2. Во второй строке: `Последовательность: <последовательность через табуляцию>.`\n",
    "\n",
    "Решите данную задачу любыми двумя способами.\n",
    "\n",
    "Предварительные условия:\n",
    "\n",
    "- в одной последовательности только один разделитель.\n",
    "\n",
    "**Способ 1**"
   ]
  },
  {
   "cell_type": "code",
   "execution_count": null,
   "id": "1dda949e",
   "metadata": {},
   "outputs": [],
   "source": [
    "sequence = input()\n",
    "\n",
    "if '.' in sequence:  # проверяем все возможные разделители\n",
    "    delimiter = '.'\n",
    "    delimiter_name = 'dot'\n",
    "elif ',' in sequence:\n",
    "    delimiter = ','\n",
    "    delimiter_name = 'comma'\n",
    "elif ';' in sequence:\n",
    "    delimiter = ';'\n",
    "    delimiter_name = 'semi-colon'\n",
    "elif ' ' in sequence:\n",
    "    delimiter = ' '\n",
    "    delimiter_name = 'whitespace'\n",
    "\n",
    "sequence_tab = sequence.replace(delimiter, '\\t')  # создадим sequence с новым разделителем - табуляцией\n",
    "\n",
    "print(f'Разделитель в последовательности: {delimiter_name}.')\n",
    "print(f'Последовательность: \\t{sequence_tab}.')\n",
    "# print(f'Последовательность: {sequence_tab}.')  # в сущности то же самое"
   ]
  },
  {
   "cell_type": "markdown",
   "id": "bcfead6f",
   "metadata": {},
   "source": [
    "**Способ 2**"
   ]
  },
  {
   "cell_type": "code",
   "execution_count": 15,
   "id": "bd7d6925",
   "metadata": {},
   "outputs": [
    {
     "name": "stdout",
     "output_type": "stream",
     "text": [
      "Разделитель в последовательности: semi-colon.\n",
      "Последовательность: \t1\t2\t3\t4.\n"
     ]
    }
   ],
   "source": [
    "sequence = '1;2;3;4'  # пример последовательности\n",
    "\n",
    "if '.' in sequence:  # проверяем все возможные разделители\n",
    "    delimiter = '.'\n",
    "    delimiter_name = 'dot'\n",
    "elif ',' in sequence:\n",
    "    delimiter = ','\n",
    "    delimiter_name = 'comma'\n",
    "elif ';' in sequence:\n",
    "    delimiter = ';'\n",
    "    delimiter_name = 'semi-colon'\n",
    "elif ' ' in sequence:\n",
    "    delimiter = ' '\n",
    "    delimiter_name = 'whitespace'\n",
    "\n",
    "# REMINDER: .join() - также метод строки (НЕ СПИСКА)\n",
    "sequence_split = sequence.split(delimiter)  # разбиваем список на элементы (по разделителю == delimiter)\n",
    "sequence_tab = '\\t'.join(sequence_split)  # объединяем снова вокруг '\\t'\n",
    "\n",
    "print(f'Разделитель в последовательности: {delimiter_name}.')\n",
    "print(f'Последовательность: \\t{sequence_tab}.')\n",
    "# print(f'Последовательность: {sequence_tab}.')  # в сущности то же самое"
   ]
  },
  {
   "cell_type": "markdown",
   "id": "36c05911",
   "metadata": {},
   "source": [
    "#### Про изменяемые и неизменяемые объекты\n",
    "**Неизменяемые**"
   ]
  },
  {
   "cell_type": "code",
   "execution_count": 20,
   "id": "089eeefc",
   "metadata": {},
   "outputs": [
    {
     "data": {
      "text/plain": [
       "'bcd'"
      ]
     },
     "execution_count": 20,
     "metadata": {},
     "output_type": "execute_result"
    }
   ],
   "source": [
    "string = 'abcd'  # строка - неизменяемый объект\n",
    "string.replace('a', '')"
   ]
  },
  {
   "cell_type": "code",
   "execution_count": 21,
   "id": "da391cab",
   "metadata": {},
   "outputs": [
    {
     "data": {
      "text/plain": [
       "'abcd'"
      ]
     },
     "execution_count": 21,
     "metadata": {},
     "output_type": "execute_result"
    }
   ],
   "source": [
    "string  # осталась той же, поскольку переменная не была перезаписана"
   ]
  },
  {
   "cell_type": "code",
   "execution_count": 22,
   "id": "aa3f09d8",
   "metadata": {},
   "outputs": [],
   "source": [
    "string = 'abcd'\n",
    "string = string.replace('a', '')"
   ]
  },
  {
   "cell_type": "code",
   "execution_count": 18,
   "id": "b4548ee6",
   "metadata": {},
   "outputs": [],
   "source": [
    "string = 'abcd'  # строка - неизменяемый объект\n",
    "string_without_a = string.replace('a', '')"
   ]
  },
  {
   "cell_type": "markdown",
   "id": "0d7b961f",
   "metadata": {},
   "source": [
    "**Изменяемые**"
   ]
  },
  {
   "cell_type": "code",
   "execution_count": 24,
   "id": "385d3c0c",
   "metadata": {},
   "outputs": [
    {
     "data": {
      "text/plain": [
       "[100, 1, -7, 0, 3]"
      ]
     },
     "execution_count": 24,
     "metadata": {},
     "output_type": "execute_result"
    }
   ],
   "source": [
    "lst = [8, 1, -7, 0, 3]  # изменяемый объект\n",
    "lst[0] = 100\n",
    "lst"
   ]
  },
  {
   "cell_type": "code",
   "execution_count": 25,
   "id": "38aff9a8",
   "metadata": {},
   "outputs": [
    {
     "ename": "TypeError",
     "evalue": "'str' object does not support item assignment",
     "output_type": "error",
     "traceback": [
      "\u001b[1;31m---------------------------------------------------------------------------\u001b[0m",
      "\u001b[1;31mTypeError\u001b[0m                                 Traceback (most recent call last)",
      "Cell \u001b[1;32mIn[25], line 2\u001b[0m\n\u001b[0;32m      1\u001b[0m string \u001b[38;5;241m=\u001b[39m \u001b[38;5;124m'\u001b[39m\u001b[38;5;124mabcd\u001b[39m\u001b[38;5;124m'\u001b[39m\n\u001b[1;32m----> 2\u001b[0m \u001b[43mstring\u001b[49m\u001b[43m[\u001b[49m\u001b[38;5;241;43m0\u001b[39;49m\u001b[43m]\u001b[49m \u001b[38;5;241m=\u001b[39m \u001b[38;5;124m'\u001b[39m\u001b[38;5;124mm\u001b[39m\u001b[38;5;124m'\u001b[39m\n",
      "\u001b[1;31mTypeError\u001b[0m: 'str' object does not support item assignment"
     ]
    }
   ],
   "source": [
    "string = 'abcd'  # с неизменяемым не получится\n",
    "string[0] = 'm'"
   ]
  },
  {
   "cell_type": "code",
   "execution_count": 28,
   "id": "fa70cf80",
   "metadata": {},
   "outputs": [],
   "source": [
    "lst = [8, 1, -7, 0, 3]\n",
    "lst.reverse()  # присваивания не нужно, меняется сам объект"
   ]
  },
  {
   "cell_type": "code",
   "execution_count": 29,
   "id": "8bf98dcd",
   "metadata": {
    "scrolled": true
   },
   "outputs": [
    {
     "data": {
      "text/plain": [
       "[3, 0, -7, 1, 8]"
      ]
     },
     "execution_count": 29,
     "metadata": {},
     "output_type": "execute_result"
    }
   ],
   "source": [
    "lst"
   ]
  },
  {
   "cell_type": "code",
   "execution_count": 30,
   "id": "0d772e2a",
   "metadata": {},
   "outputs": [],
   "source": [
    "lst.reverse()"
   ]
  },
  {
   "cell_type": "code",
   "execution_count": 31,
   "id": "515665ba",
   "metadata": {},
   "outputs": [
    {
     "data": {
      "text/plain": [
       "[8, 1, -7, 0, 3]"
      ]
     },
     "execution_count": 31,
     "metadata": {},
     "output_type": "execute_result"
    }
   ],
   "source": [
    "lst"
   ]
  },
  {
   "cell_type": "code",
   "execution_count": 32,
   "id": "14c74e16",
   "metadata": {},
   "outputs": [
    {
     "data": {
      "text/plain": [
       "1"
      ]
     },
     "execution_count": 32,
     "metadata": {},
     "output_type": "execute_result"
    }
   ],
   "source": [
    "lst.count(0)"
   ]
  },
  {
   "cell_type": "code",
   "execution_count": 34,
   "id": "51a84d1a",
   "metadata": {},
   "outputs": [],
   "source": [
    "ls1_mistake = lst.reverse()  # т. к. ничего не возвращается, переменной будет присвоено значение None"
   ]
  },
  {
   "cell_type": "code",
   "execution_count": 37,
   "id": "ca3040ab",
   "metadata": {},
   "outputs": [
    {
     "name": "stdout",
     "output_type": "stream",
     "text": [
      "None <class 'NoneType'>\n"
     ]
    }
   ],
   "source": [
    "print(ls1_mistake, type(ls1_mistake))"
   ]
  },
  {
   "cell_type": "markdown",
   "id": "4bd5b61c",
   "metadata": {},
   "source": [
    "**Копирование списков**"
   ]
  },
  {
   "cell_type": "code",
   "execution_count": 39,
   "id": "6cfee51e",
   "metadata": {},
   "outputs": [],
   "source": [
    "lst = [8, 1, -7, 0, 3]\n",
    "lst2 = lst\n",
    "lst3 = lst"
   ]
  },
  {
   "cell_type": "code",
   "execution_count": 40,
   "id": "438b3551",
   "metadata": {},
   "outputs": [],
   "source": [
    "lst2.append(6)"
   ]
  },
  {
   "cell_type": "code",
   "execution_count": 41,
   "id": "94e3ba4f",
   "metadata": {},
   "outputs": [
    {
     "data": {
      "text/plain": [
       "[8, 1, -7, 0, 3, 6]"
      ]
     },
     "execution_count": 41,
     "metadata": {},
     "output_type": "execute_result"
    }
   ],
   "source": [
    "lst2"
   ]
  },
  {
   "cell_type": "code",
   "execution_count": 42,
   "id": "cb6ff730",
   "metadata": {},
   "outputs": [
    {
     "data": {
      "text/plain": [
       "[8, 1, -7, 0, 3, 6]"
      ]
     },
     "execution_count": 42,
     "metadata": {},
     "output_type": "execute_result"
    }
   ],
   "source": [
    "lst"
   ]
  },
  {
   "cell_type": "markdown",
   "id": "dc7dbc7d",
   "metadata": {},
   "source": [
    "**А что если мы хотим создать копию списка?**"
   ]
  },
  {
   "cell_type": "code",
   "execution_count": 44,
   "id": "c97abf18",
   "metadata": {},
   "outputs": [],
   "source": [
    "lst_new = lst.copy()  # создаем новый объект\n",
    "lst_new2 = list(lst_new)  # второй способ"
   ]
  },
  {
   "cell_type": "code",
   "execution_count": 45,
   "id": "20b83708",
   "metadata": {},
   "outputs": [],
   "source": [
    "lst_new.extend([9, 9])"
   ]
  },
  {
   "cell_type": "code",
   "execution_count": 46,
   "id": "a79d2cb1",
   "metadata": {},
   "outputs": [
    {
     "data": {
      "text/plain": [
       "[8, 1, -7, 0, 3, 6, 9, 9]"
      ]
     },
     "execution_count": 46,
     "metadata": {},
     "output_type": "execute_result"
    }
   ],
   "source": [
    "lst_new"
   ]
  },
  {
   "cell_type": "code",
   "execution_count": 47,
   "id": "2296bd02",
   "metadata": {},
   "outputs": [
    {
     "data": {
      "text/plain": [
       "[8, 1, -7, 0, 3, 6]"
      ]
     },
     "execution_count": 47,
     "metadata": {},
     "output_type": "execute_result"
    }
   ],
   "source": [
    "lst"
   ]
  },
  {
   "cell_type": "markdown",
   "id": "8c46400e",
   "metadata": {},
   "source": [
    "#### Задача 2\n",
    "Вам на вход подаются две последовательности из слов, разделенных пробелами и знаками препинания (`'.'`, `','`, `';'`, `':'`). Первая последовательность - предложение, вторая - словосочетание. Ваша задача - определить, входят ли все слова (в исходной форме, не в начальной) в словосочетании в предложение. Case букв, а также знаки препинания должны игнорироваться. Если это верно, тогда должно печататься `True`, иначе - `False`.\n",
    "\n",
    "1) Принять на вход две последовательности;\n",
    "2) Убрать все знаки препинания - `.replace()`;\n",
    "3) Привести все к одному регистру (`.upper()`/`.lower()`);\n",
    "4) Превратить все в множества (`set()`);\n",
    "5) Воспользоваться методов `.issubset()`/`.issuperset()` (`<`/`>`)."
   ]
  },
  {
   "cell_type": "code",
   "execution_count": null,
   "id": "426f80c3",
   "metadata": {},
   "outputs": [],
   "source": [
    "# наш код здесь"
   ]
  },
  {
   "cell_type": "markdown",
   "id": "b373101b",
   "metadata": {},
   "source": [
    "#### Задача 3\n",
    "\n",
    "Вы пишете программу, которая принимает от пользователя номер телефона СТРОГО в формате `+7(999)0000000`. Программа должна проверять соответствие формату, а также то, что номер российский. Если формат не соблюден, должно печататься `'Формат не соблюден, введите номер заново.'`, иначе - `'Введенный Вами номер сохранен. Спасибо!'`."
   ]
  },
  {
   "cell_type": "code",
   "execution_count": null,
   "id": "0cc4108b",
   "metadata": {},
   "outputs": [],
   "source": [
    "# наш код здесь"
   ]
  },
  {
   "cell_type": "markdown",
   "id": "a274de10",
   "metadata": {},
   "source": [
    "#### Задача 4\n",
    "Вам на вход подаются натуральные числа через запятую. Вам надо:\n",
    "\n",
    "1) Поменять местами минимум и максимум (если их несколько, то следует первый из них);\n",
    "2) Создать словарь, в котором ключами будут сами целые числа, а значениями - количество уникальных цифр в них;\n",
    "3) Вывести словарь для пользователя."
   ]
  },
  {
   "cell_type": "code",
   "execution_count": null,
   "id": "a7f998a3",
   "metadata": {},
   "outputs": [],
   "source": [
    "# наш код здесь"
   ]
  }
 ],
 "metadata": {
  "kernelspec": {
   "display_name": "Python 3 (ipykernel)",
   "language": "python",
   "name": "python3"
  },
  "language_info": {
   "codemirror_mode": {
    "name": "ipython",
    "version": 3
   },
   "file_extension": ".py",
   "mimetype": "text/x-python",
   "name": "python",
   "nbconvert_exporter": "python",
   "pygments_lexer": "ipython3",
   "version": "3.10.8"
  }
 },
 "nbformat": 4,
 "nbformat_minor": 5
}
