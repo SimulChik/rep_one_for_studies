{
 "cells": [
  {
   "cell_type": "code",
   "execution_count": 7,
   "metadata": {},
   "outputs": [],
   "source": [
    "import game_v2"
   ]
  },
  {
   "cell_type": "code",
   "execution_count": null,
   "metadata": {},
   "outputs": [],
   "source": []
  },
  {
   "cell_type": "code",
   "execution_count": 8,
   "metadata": {},
   "outputs": [
    {
     "name": "stdout",
     "output_type": "stream",
     "text": [
      "Ваш алгоритм угадывает число в реднем за: 101 попыток\n"
     ]
    },
    {
     "data": {
      "text/plain": [
       "101"
      ]
     },
     "execution_count": 8,
     "metadata": {},
     "output_type": "execute_result"
    }
   ],
   "source": [
    "game_v2.score_game(game_v2.random_predict)"
   ]
  },
  {
   "cell_type": "code",
   "execution_count": 9,
   "metadata": {},
   "outputs": [
    {
     "name": "stdout",
     "output_type": "stream",
     "text": [
      "Ваш алгоритм угадывает число в реднем за: 101 попыток\n"
     ]
    }
   ],
   "source": [
    "'''game \"guess the number\"\n",
    "   computer's choice and guess '''\n",
    "\n",
    "import numpy as np\n",
    "\n",
    "def random_predict(number:int=1) -> int: #Обратите внимание, что в аргументах функции мы через \n",
    "    #двоеточие указываем тип данных для ввода (int), через равно — стандартное значение этого типа данных. \n",
    "    # Стрелка (->) указывает, какой тип данных мы должны получить на выходе. \n",
    "    # Это упростит заполнение документации (VS Code сможет автоматически генерировать её), \n",
    "    # а также позволит в дальнейшем эффективнее работать с ошибками.\n",
    "    \n",
    "    \n",
    "    \"\"\"random guessing \n",
    "        #Сгенерируем документацию для нашей функции. \n",
    "        # Для этого в теле функции прописываем тройные кавычки (символ docstring), и, \n",
    "        # если у вас установлено расширение Python Docstring Generator, \n",
    "        # шаблон документации будет создан автоматически. \n",
    "        # На месте [summary] прописываем описание функции, \n",
    "        # а вместо [description] указываем описание аргументов и возвращаемого значения:\n",
    "\n",
    "    Args:\n",
    "        number (int, optional): hidden number. Defaults to 1.\n",
    "\n",
    "    Returns:\n",
    "        int: qnty of iterations\n",
    "    \"\"\"\n",
    "    count=0\n",
    "    \n",
    "    while True:\n",
    "        count+=1\n",
    "        predict_number = np.random.randint(1,101)\n",
    "        if number == predict_number:\n",
    "            break\n",
    "    \n",
    "    return(count)\n",
    "\n",
    "def score_game(random_predict) -> int:\n",
    "    \"\"\"In how many iterations is needed to success (in avg for 1000 attempts)\n",
    "\n",
    "    Args:\n",
    "        random_predict (_type_): guessing function\n",
    "\n",
    "    Returns:\n",
    "        int: average qnty\n",
    "    \"\"\"\n",
    "    count_ls = [] # список для сохранения кол-ва попыток\n",
    "    np.random.seed(1) # фиксируем рэндом сид для воспроизводимости (чтобы был воспроизводимый результат. т.е. чтобы генерация рэндома была каждый раз постоянная. чтобы при перезапуске функции получали один и тот же результат)\n",
    "    random_array = np.random.randint(1,101, size=(1000)) #Загадали список чисел\n",
    "    \n",
    "    for number in random_array:\n",
    "       count_ls.append(random_predict(number))\n",
    "\n",
    "    score = int(np.mean(count_ls)) # находим среднее количество попыток\n",
    "    print(f'Ваш алгоритм угадывает число в реднем за: {score} попыток')\n",
    "    return(score)  \n",
    "\n",
    "if __name__ == '__main__':\n",
    "    #RUN\n",
    "    score_game(random_predict)"
   ]
  },
  {
   "cell_type": "code",
   "execution_count": 10,
   "metadata": {},
   "outputs": [],
   "source": [
    "n=10"
   ]
  },
  {
   "cell_type": "code",
   "execution_count": 11,
   "metadata": {},
   "outputs": [],
   "source": [
    "z=n"
   ]
  }
 ],
 "metadata": {
  "kernelspec": {
   "display_name": "Python 3",
   "language": "python",
   "name": "python3"
  },
  "language_info": {
   "codemirror_mode": {
    "name": "ipython",
    "version": 3
   },
   "file_extension": ".py",
   "mimetype": "text/x-python",
   "name": "python",
   "nbconvert_exporter": "python",
   "pygments_lexer": "ipython3",
   "version": "3.11.4"
  },
  "orig_nbformat": 4
 },
 "nbformat": 4,
 "nbformat_minor": 2
}
